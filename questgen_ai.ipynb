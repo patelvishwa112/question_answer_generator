{
 "cells": [
  {
   "cell_type": "markdown",
   "id": "9c586bd4",
   "metadata": {},
   "source": [
    "# Quetion and Answer Generator using Questgen and Transformers"
   ]
  },
  {
   "cell_type": "markdown",
   "id": "d54f2159",
   "metadata": {},
   "source": [
    "## 1. QuestGen (Uses T-5 as underlying Transformer Model for all tasks)\n",
    "\n",
    "<b> QuestGen: </b>\n",
    "Questgen provides an authoring tool to generate various kinds of assessments like Multiple Choice Questions (MCQs), True/False Questions, Higher-Order Questions, etc in 1-click. You can edit and make modifications to the generated worksheet before exporting it as plain text or Pdf.\n",
    "\n",
    "The currently supported question generation capabilities of the library are <b> MCQs, Yes/No questions, FAQs, Paraphrasing, and Question Answering</b>.\n",
    "\n",
    "Link to <a href=\"https://towardsdatascience.com/questgen-an-open-source-nlp-library-for-question-generation-algorithms-1e18067fcdc6\">Article</a>\n"
   ]
  },
  {
   "cell_type": "markdown",
   "id": "b5833e40",
   "metadata": {},
   "source": [
    "<h2> T5 Model Details </h2>\n",
    "<table>\n",
    "<tbody>\n",
    "<tr>\n",
    "<td>No</td>\n",
    "<td>Model Name</td>\n",
    "<td>Description</td>\n",
    "<td>Link</td>\n",
    "</tr>\n",
    "<tr>\n",
    "<td>1</td>\n",
    "<td>T5LargeParaphraser</td>\n",
    "<td>Open-sourcing paraphraser trained on a custom dataset and T5 large model</td>\n",
    "<td><a href=\"&quot;https://huggingface.co/ramsrigouthamg/t5-large-paraphraser-diverse-high-quality\">Click Here to Visit URL</a></td>\n",
    "</tr>\n",
    "<tr>\n",
    "<td>2</td>\n",
    "<td>&nbsp;T5ForConditionalGeneration</td>\n",
    "<td>&nbsp;Using T5-Base model, an advanced NLG model used for either supervised or un-supervised tasks</td>\n",
    "<td>&nbsp;https://huggingface.co/docs/transformers/model_doc/t5#overview</td>\n",
    "</tr>\n",
    "</tbody>\n",
    "</table>\n",
    "<p>&nbsp;</p>"
   ]
  },
  {
   "cell_type": "code",
   "execution_count": 1,
   "id": "c671a3f9",
   "metadata": {},
   "outputs": [
    {
     "name": "stderr",
     "output_type": "stream",
     "text": [
      "/opt/anaconda3/envs/learn/lib/python3.8/site-packages/tqdm/auto.py:22: TqdmWarning: IProgress not found. Please update jupyter and ipywidgets. See https://ipywidgets.readthedocs.io/en/stable/user_install.html\n",
      "  from .autonotebook import tqdm as notebook_tqdm\n",
      "[nltk_data] Downloading package brown to\n",
      "[nltk_data]     /Users/himanipatel/nltk_data...\n",
      "[nltk_data]   Package brown is already up-to-date!\n",
      "[nltk_data] Downloading package stopwords to\n",
      "[nltk_data]     /Users/himanipatel/nltk_data...\n",
      "[nltk_data]   Package stopwords is already up-to-date!\n",
      "[nltk_data] Downloading collection 'popular'\n",
      "[nltk_data]    | \n",
      "[nltk_data]    | Downloading package cmudict to\n",
      "[nltk_data]    |     /Users/himanipatel/nltk_data...\n",
      "[nltk_data]    |   Package cmudict is already up-to-date!\n",
      "[nltk_data]    | Downloading package gazetteers to\n",
      "[nltk_data]    |     /Users/himanipatel/nltk_data...\n",
      "[nltk_data]    |   Package gazetteers is already up-to-date!\n",
      "[nltk_data]    | Downloading package genesis to\n",
      "[nltk_data]    |     /Users/himanipatel/nltk_data...\n",
      "[nltk_data]    |   Package genesis is already up-to-date!\n",
      "[nltk_data]    | Downloading package gutenberg to\n",
      "[nltk_data]    |     /Users/himanipatel/nltk_data...\n",
      "[nltk_data]    |   Package gutenberg is already up-to-date!\n",
      "[nltk_data]    | Downloading package inaugural to\n",
      "[nltk_data]    |     /Users/himanipatel/nltk_data...\n",
      "[nltk_data]    |   Package inaugural is already up-to-date!\n",
      "[nltk_data]    | Downloading package movie_reviews to\n",
      "[nltk_data]    |     /Users/himanipatel/nltk_data...\n",
      "[nltk_data]    |   Package movie_reviews is already up-to-date!\n",
      "[nltk_data]    | Downloading package names to\n",
      "[nltk_data]    |     /Users/himanipatel/nltk_data...\n",
      "[nltk_data]    |   Package names is already up-to-date!\n",
      "[nltk_data]    | Downloading package shakespeare to\n",
      "[nltk_data]    |     /Users/himanipatel/nltk_data...\n",
      "[nltk_data]    |   Package shakespeare is already up-to-date!\n",
      "[nltk_data]    | Downloading package stopwords to\n",
      "[nltk_data]    |     /Users/himanipatel/nltk_data...\n",
      "[nltk_data]    |   Package stopwords is already up-to-date!\n",
      "[nltk_data]    | Downloading package treebank to\n",
      "[nltk_data]    |     /Users/himanipatel/nltk_data...\n",
      "[nltk_data]    |   Package treebank is already up-to-date!\n",
      "[nltk_data]    | Downloading package twitter_samples to\n",
      "[nltk_data]    |     /Users/himanipatel/nltk_data...\n",
      "[nltk_data]    |   Package twitter_samples is already up-to-date!\n",
      "[nltk_data]    | Downloading package omw to\n",
      "[nltk_data]    |     /Users/himanipatel/nltk_data...\n",
      "[nltk_data]    |   Package omw is already up-to-date!\n",
      "[nltk_data]    | Downloading package omw-1.4 to\n",
      "[nltk_data]    |     /Users/himanipatel/nltk_data...\n",
      "[nltk_data]    |   Package omw-1.4 is already up-to-date!\n",
      "[nltk_data]    | Downloading package wordnet to\n",
      "[nltk_data]    |     /Users/himanipatel/nltk_data...\n",
      "[nltk_data]    |   Package wordnet is already up-to-date!\n",
      "[nltk_data]    | Downloading package wordnet2021 to\n",
      "[nltk_data]    |     /Users/himanipatel/nltk_data...\n",
      "[nltk_data]    |   Package wordnet2021 is already up-to-date!\n",
      "[nltk_data]    | Downloading package wordnet31 to\n",
      "[nltk_data]    |     /Users/himanipatel/nltk_data...\n",
      "[nltk_data]    |   Package wordnet31 is already up-to-date!\n",
      "[nltk_data]    | Downloading package wordnet_ic to\n",
      "[nltk_data]    |     /Users/himanipatel/nltk_data...\n",
      "[nltk_data]    |   Package wordnet_ic is already up-to-date!\n",
      "[nltk_data]    | Downloading package words to\n",
      "[nltk_data]    |     /Users/himanipatel/nltk_data...\n",
      "[nltk_data]    |   Package words is already up-to-date!\n",
      "[nltk_data]    | Downloading package maxent_ne_chunker to\n",
      "[nltk_data]    |     /Users/himanipatel/nltk_data...\n",
      "[nltk_data]    |   Package maxent_ne_chunker is already up-to-date!\n",
      "[nltk_data]    | Downloading package punkt to\n",
      "[nltk_data]    |     /Users/himanipatel/nltk_data...\n",
      "[nltk_data]    |   Package punkt is already up-to-date!\n",
      "[nltk_data]    | Downloading package snowball_data to\n",
      "[nltk_data]    |     /Users/himanipatel/nltk_data...\n",
      "[nltk_data]    |   Package snowball_data is already up-to-date!\n",
      "[nltk_data]    | Downloading package averaged_perceptron_tagger to\n",
      "[nltk_data]    |     /Users/himanipatel/nltk_data...\n",
      "[nltk_data]    |   Package averaged_perceptron_tagger is already up-\n",
      "[nltk_data]    |       to-date!\n",
      "[nltk_data]    | \n",
      "[nltk_data]  Done downloading collection popular\n",
      "[nltk_data] Downloading package brown to\n",
      "[nltk_data]     /Users/himanipatel/nltk_data...\n",
      "[nltk_data]   Package brown is already up-to-date!\n",
      "[nltk_data] Downloading package stopwords to\n",
      "[nltk_data]     /Users/himanipatel/nltk_data...\n",
      "[nltk_data]   Package stopwords is already up-to-date!\n",
      "[nltk_data] Downloading collection 'popular'\n",
      "[nltk_data]    | \n",
      "[nltk_data]    | Downloading package cmudict to\n",
      "[nltk_data]    |     /Users/himanipatel/nltk_data...\n",
      "[nltk_data]    |   Package cmudict is already up-to-date!\n",
      "[nltk_data]    | Downloading package gazetteers to\n",
      "[nltk_data]    |     /Users/himanipatel/nltk_data...\n",
      "[nltk_data]    |   Package gazetteers is already up-to-date!\n",
      "[nltk_data]    | Downloading package genesis to\n",
      "[nltk_data]    |     /Users/himanipatel/nltk_data...\n",
      "[nltk_data]    |   Package genesis is already up-to-date!\n",
      "[nltk_data]    | Downloading package gutenberg to\n",
      "[nltk_data]    |     /Users/himanipatel/nltk_data...\n",
      "[nltk_data]    |   Package gutenberg is already up-to-date!\n",
      "[nltk_data]    | Downloading package inaugural to\n",
      "[nltk_data]    |     /Users/himanipatel/nltk_data...\n",
      "[nltk_data]    |   Package inaugural is already up-to-date!\n",
      "[nltk_data]    | Downloading package movie_reviews to\n",
      "[nltk_data]    |     /Users/himanipatel/nltk_data...\n",
      "[nltk_data]    |   Package movie_reviews is already up-to-date!\n",
      "[nltk_data]    | Downloading package names to\n",
      "[nltk_data]    |     /Users/himanipatel/nltk_data...\n",
      "[nltk_data]    |   Package names is already up-to-date!\n",
      "[nltk_data]    | Downloading package shakespeare to\n",
      "[nltk_data]    |     /Users/himanipatel/nltk_data...\n",
      "[nltk_data]    |   Package shakespeare is already up-to-date!\n",
      "[nltk_data]    | Downloading package stopwords to\n",
      "[nltk_data]    |     /Users/himanipatel/nltk_data...\n",
      "[nltk_data]    |   Package stopwords is already up-to-date!\n",
      "[nltk_data]    | Downloading package treebank to\n",
      "[nltk_data]    |     /Users/himanipatel/nltk_data...\n",
      "[nltk_data]    |   Package treebank is already up-to-date!\n",
      "[nltk_data]    | Downloading package twitter_samples to\n",
      "[nltk_data]    |     /Users/himanipatel/nltk_data...\n",
      "[nltk_data]    |   Package twitter_samples is already up-to-date!\n",
      "[nltk_data]    | Downloading package omw to\n",
      "[nltk_data]    |     /Users/himanipatel/nltk_data...\n",
      "[nltk_data]    |   Package omw is already up-to-date!\n",
      "[nltk_data]    | Downloading package omw-1.4 to\n",
      "[nltk_data]    |     /Users/himanipatel/nltk_data...\n",
      "[nltk_data]    |   Package omw-1.4 is already up-to-date!\n",
      "[nltk_data]    | Downloading package wordnet to\n",
      "[nltk_data]    |     /Users/himanipatel/nltk_data...\n",
      "[nltk_data]    |   Package wordnet is already up-to-date!\n",
      "[nltk_data]    | Downloading package wordnet2021 to\n",
      "[nltk_data]    |     /Users/himanipatel/nltk_data...\n",
      "[nltk_data]    |   Package wordnet2021 is already up-to-date!\n",
      "[nltk_data]    | Downloading package wordnet31 to\n",
      "[nltk_data]    |     /Users/himanipatel/nltk_data...\n",
      "[nltk_data]    |   Package wordnet31 is already up-to-date!\n",
      "[nltk_data]    | Downloading package wordnet_ic to\n",
      "[nltk_data]    |     /Users/himanipatel/nltk_data...\n",
      "[nltk_data]    |   Package wordnet_ic is already up-to-date!\n",
      "[nltk_data]    | Downloading package words to\n",
      "[nltk_data]    |     /Users/himanipatel/nltk_data...\n",
      "[nltk_data]    |   Package words is already up-to-date!\n",
      "[nltk_data]    | Downloading package maxent_ne_chunker to\n",
      "[nltk_data]    |     /Users/himanipatel/nltk_data...\n",
      "[nltk_data]    |   Package maxent_ne_chunker is already up-to-date!\n",
      "[nltk_data]    | Downloading package punkt to\n",
      "[nltk_data]    |     /Users/himanipatel/nltk_data...\n",
      "[nltk_data]    |   Package punkt is already up-to-date!\n",
      "[nltk_data]    | Downloading package snowball_data to\n",
      "[nltk_data]    |     /Users/himanipatel/nltk_data...\n",
      "[nltk_data]    |   Package snowball_data is already up-to-date!\n",
      "[nltk_data]    | Downloading package averaged_perceptron_tagger to\n",
      "[nltk_data]    |     /Users/himanipatel/nltk_data...\n",
      "[nltk_data]    |   Package averaged_perceptron_tagger is already up-\n",
      "[nltk_data]    |       to-date!\n",
      "[nltk_data]    | \n",
      "[nltk_data]  Done downloading collection popular\n"
     ]
    }
   ],
   "source": [
    "\n",
    "from pprint import pprint\n",
    "from Questgen import main\n",
    "import warnings\n",
    "warnings.filterwarnings(\"ignore\")"
   ]
  },
  {
   "cell_type": "code",
   "execution_count": 5,
   "id": "128cb25c",
   "metadata": {},
   "outputs": [
    {
     "name": "stdout",
     "output_type": "stream",
     "text": [
      "{'Boolean Questions': ['Has the fed ever hiked its funds rate?',\n",
      "                       'Is the fed funds rate higher than it was in 1994?',\n",
      "                       'Has the fed ever hiked the interest rate?'],\n",
      " 'Count': 10,\n",
      " 'Text': 'As (newly) expected, the Federal Open Market Committee (FOMC) raised '\n",
      "         'the fed funds rate by 75 basis points, the first hike of that size '\n",
      "         'since 1994. That puts the fed funds target range at 1.5%-1.75%. '\n",
      "         'There was one dissent—Kansas City Fed President Esther George '\n",
      "         '(typically a hawk)—in favor of a lesser 50-basis-point increase. The '\n",
      "         'FOMC confirmed its previously laid-out plan on balance sheet '\n",
      "         'reduction, which just began at the beginning of June—shrinking its '\n",
      "         'holdings of Treasury and mortgage-backed securities by $47.5 billion '\n",
      "         'per month until September, and then upping that to $95 billion per '\n",
      "         'month thereafter.'}\n",
      "CPU times: user 10.5 s, sys: 1.93 s, total: 12.5 s\n",
      "Wall time: 13.9 s\n"
     ]
    }
   ],
   "source": [
    "%%time\n",
    "# Generate Boolean Question Generator \n",
    "\n",
    "qe= main.BoolQGen()\n",
    "payload = {\n",
    "            \"input_text\": \"As (newly) expected, the Federal Open Market Committee (FOMC) raised the fed funds rate by 75 basis points, the first hike of that size since 1994. That puts the fed funds target range at 1.5%-1.75%. There was one dissent—Kansas City Fed President Esther George (typically a hawk)—in favor of a lesser 50-basis-point increase. The FOMC confirmed its previously laid-out plan on balance sheet reduction, which just began at the beginning of June—shrinking its holdings of Treasury and mortgage-backed securities by $47.5 billion per month until September, and then upping that to $95 billion per month thereafter.\"\n",
    "            ,\"max_questions\": 10\n",
    "        }\n",
    "output = qe.predict_boolq(payload)\n",
    "pprint (output)"
   ]
  },
  {
   "cell_type": "code",
   "execution_count": 6,
   "id": "9017ed88",
   "metadata": {},
   "outputs": [
    {
     "data": {
      "text/plain": [
       "['Has the fed ever hiked its funds rate?',\n",
       " 'Is the fed funds rate higher than it was in 1994?',\n",
       " 'Has the fed ever hiked the interest rate?']"
      ]
     },
     "execution_count": 6,
     "metadata": {},
     "output_type": "execute_result"
    }
   ],
   "source": [
    "output[\"Boolean Questions\"]"
   ]
  },
  {
   "cell_type": "code",
   "execution_count": 7,
   "id": "230d5ed2",
   "metadata": {},
   "outputs": [
    {
     "name": "stdout",
     "output_type": "stream",
     "text": [
      "Running model for generation\n",
      "{'questions': [{'Question': 'What is the name of the Federal Open Market Committee?', 'Answer': 'fomc', 'id': 1, 'context': 'The FOMC confirmed its previously laid-out plan on balance sheet reduction, which just began at the beginning of June—shrinking its holdings of Treasury and mortgage-backed securities by $47.5 billion per month until September, and then upping that to $95 billion per month thereafter. As (newly) expected, the Federal Open Market Committee (FOMC) raised the fed funds rate by 75 basis points, the first hike of that size since 1994.'}, {'Question': 'What did the FOMC raise by 75 basis points?', 'Answer': 'fed funds rate', 'id': 2, 'context': 'As (newly) expected, the Federal Open Market Committee (FOMC) raised the fed funds rate by 75 basis points, the first hike of that size since 1994.'}, {'Question': 'How much did the FOMC raise the fed funds rate?', 'Answer': 'basis points', 'id': 3, 'context': 'As (newly) expected, the Federal Open Market Committee (FOMC) raised the fed funds rate by 75 basis points, the first hike of that size since 1994.'}, {'Question': 'What is the largest holding of mortgage-backed securities?', 'Answer': 'treasury', 'id': 4, 'context': 'The FOMC confirmed its previously laid-out plan on balance sheet reduction, which just began at the beginning of June—shrinking its holdings of Treasury and mortgage-backed securities by $47.5 billion per month until September, and then upping that to $95 billion per month thereafter.'}, {'Question': 'What did the FOMC cut in its holdings of Treasury and mortgage-backed securities?', 'Answer': 'holdings', 'id': 5, 'context': 'The FOMC confirmed its previously laid-out plan on balance sheet reduction, which just began at the beginning of June—shrinking its holdings of Treasury and mortgage-backed securities by $47.5 billion per month until September, and then upping that to $95 billion per month thereafter.'}, {'Question': 'What was the first rate hike of the Fed funds rate since 1994?', 'Answer': 'hike', 'id': 6, 'context': 'As (newly) expected, the Federal Open Market Committee (FOMC) raised the fed funds rate by 75 basis points, the first hike of that size since 1994.'}, {'Question': 'What did the FOMC cut its holdings of in June?', 'Answer': 'securities', 'id': 7, 'context': 'The FOMC confirmed its previously laid-out plan on balance sheet reduction, which just began at the beginning of June—shrinking its holdings of Treasury and mortgage-backed securities by $47.5 billion per month until September, and then upping that to $95 billion per month thereafter.'}]}\n",
      "{'questions': [{'Answer': 'fomc',\n",
      "                'Question': 'What is the name of the Federal Open Market '\n",
      "                            'Committee?',\n",
      "                'context': 'The FOMC confirmed its previously laid-out plan on '\n",
      "                           'balance sheet reduction, which just began at the '\n",
      "                           'beginning of June—shrinking its holdings of '\n",
      "                           'Treasury and mortgage-backed securities by $47.5 '\n",
      "                           'billion per month until September, and then upping '\n",
      "                           'that to $95 billion per month thereafter. As '\n",
      "                           '(newly) expected, the Federal Open Market '\n",
      "                           'Committee (FOMC) raised the fed funds rate by 75 '\n",
      "                           'basis points, the first hike of that size since '\n",
      "                           '1994.',\n",
      "                'id': 1},\n",
      "               {'Answer': 'fed funds rate',\n",
      "                'Question': 'What did the FOMC raise by 75 basis points?',\n",
      "                'context': 'As (newly) expected, the Federal Open Market '\n",
      "                           'Committee (FOMC) raised the fed funds rate by 75 '\n",
      "                           'basis points, the first hike of that size since '\n",
      "                           '1994.',\n",
      "                'id': 2},\n",
      "               {'Answer': 'basis points',\n",
      "                'Question': 'How much did the FOMC raise the fed funds rate?',\n",
      "                'context': 'As (newly) expected, the Federal Open Market '\n",
      "                           'Committee (FOMC) raised the fed funds rate by 75 '\n",
      "                           'basis points, the first hike of that size since '\n",
      "                           '1994.',\n",
      "                'id': 3},\n",
      "               {'Answer': 'treasury',\n",
      "                'Question': 'What is the largest holding of mortgage-backed '\n",
      "                            'securities?',\n",
      "                'context': 'The FOMC confirmed its previously laid-out plan on '\n",
      "                           'balance sheet reduction, which just began at the '\n",
      "                           'beginning of June—shrinking its holdings of '\n",
      "                           'Treasury and mortgage-backed securities by $47.5 '\n",
      "                           'billion per month until September, and then upping '\n",
      "                           'that to $95 billion per month thereafter.',\n",
      "                'id': 4},\n",
      "               {'Answer': 'holdings',\n",
      "                'Question': 'What did the FOMC cut in its holdings of Treasury '\n",
      "                            'and mortgage-backed securities?',\n",
      "                'context': 'The FOMC confirmed its previously laid-out plan on '\n",
      "                           'balance sheet reduction, which just began at the '\n",
      "                           'beginning of June—shrinking its holdings of '\n",
      "                           'Treasury and mortgage-backed securities by $47.5 '\n",
      "                           'billion per month until September, and then upping '\n",
      "                           'that to $95 billion per month thereafter.',\n",
      "                'id': 5},\n",
      "               {'Answer': 'hike',\n",
      "                'Question': 'What was the first rate hike of the Fed funds '\n",
      "                            'rate since 1994?',\n",
      "                'context': 'As (newly) expected, the Federal Open Market '\n",
      "                           'Committee (FOMC) raised the fed funds rate by 75 '\n",
      "                           'basis points, the first hike of that size since '\n",
      "                           '1994.',\n",
      "                'id': 6},\n",
      "               {'Answer': 'securities',\n",
      "                'Question': 'What did the FOMC cut its holdings of in June?',\n",
      "                'context': 'The FOMC confirmed its previously laid-out plan on '\n",
      "                           'balance sheet reduction, which just began at the '\n",
      "                           'beginning of June—shrinking its holdings of '\n",
      "                           'Treasury and mortgage-backed securities by $47.5 '\n",
      "                           'billion per month until September, and then upping '\n",
      "                           'that to $95 billion per month thereafter.',\n",
      "                'id': 7}],\n",
      " 'statement': 'As (newly) expected, the Federal Open Market Committee (FOMC) '\n",
      "              'raised the fed funds rate by 75 basis points, the first hike of '\n",
      "              'that size since 1994. That puts the fed funds target range at '\n",
      "              '1.5%-1.75%. There was one dissent—Kansas City Fed President '\n",
      "              'Esther George (typically a hawk)—in favor of a lesser '\n",
      "              '50-basis-point increase. The FOMC confirmed its previously '\n",
      "              'laid-out plan on balance sheet reduction, which just began at '\n",
      "              'the beginning of June—shrinking its holdings of Treasury and '\n",
      "              'mortgage-backed securities by $47.5 billion per month until '\n",
      "              'September, and then upping that to $95 billion per month '\n",
      "              'thereafter.'}\n",
      "CPU times: user 18.6 s, sys: 3.21 s, total: 21.8 s\n",
      "Wall time: 24.5 s\n"
     ]
    }
   ],
   "source": [
    "%%time\n",
    "# Generate Questions and short answers from given text.\n",
    "qg = main.QGen()\n",
    "output = qg.predict_shortq(payload)\n",
    "pprint (output)"
   ]
  },
  {
   "cell_type": "code",
   "execution_count": 11,
   "id": "1681bf12",
   "metadata": {},
   "outputs": [
    {
     "name": "stdout",
     "output_type": "stream",
     "text": [
      "What is the name of the Federal Open Market Committee?: fomc\n",
      "What did the FOMC raise by 75 basis points?: fed funds rate\n",
      "How much did the FOMC raise the fed funds rate?: basis points\n",
      "What is the largest holding of mortgage-backed securities?: treasury\n",
      "What did the FOMC cut in its holdings of Treasury and mortgage-backed securities?: holdings\n",
      "What was the first rate hike of the Fed funds rate since 1994?: hike\n",
      "What did the FOMC cut its holdings of in June?: securities\n"
     ]
    }
   ],
   "source": [
    "for i in range(len(output[\"questions\"])):\n",
    "    print(\"{}: {}\".format(output[\"questions\"][i][\"Question\"], output[\"questions\"][i][\"Answer\"]))# , output[\"questions\"][i][\"context\"]))"
   ]
  },
  {
   "cell_type": "code",
   "execution_count": 12,
   "id": "153b5457",
   "metadata": {},
   "outputs": [
    {
     "name": "stdout",
     "output_type": "stream",
     "text": [
      "CPU times: user 2.47 s, sys: 371 ms, total: 2.84 s\n",
      "Wall time: 4.98 s\n"
     ]
    }
   ],
   "source": [
    "%%time\n",
    "# Simple Question Answer (Long answer)\n",
    "\n",
    "answer = main.AnswerPredictor()\n",
    "payload3 = {\n",
    "    \"input_text\" : '''As (newly) expected, the Federal Open Market Committee (FOMC) raised the fed funds rate by 75 basis points, the first hike of that size since 1994. That puts the fed funds target range at 1.5%-1.75%. There was one dissent—Kansas City Fed President Esther George (typically a hawk)—in favor of a lesser 50-basis-point increase. The FOMC confirmed its previously laid-out plan on balance sheet reduction, which just began at the beginning of June—shrinking its holdings of Treasury and mortgage-backed securities by $47.5 billion per month until September, and then upping that to $95 billion per month thereafter.''',\n",
    "    \"input_question\" : \"What did the FOMC cut its holdings of in June?\"\n",
    "    \n",
    "}\n",
    "output = answer.predict_answer(payload3)"
   ]
  },
  {
   "cell_type": "code",
   "execution_count": 13,
   "id": "92a02289",
   "metadata": {},
   "outputs": [
    {
     "data": {
      "text/plain": [
       "'The fomc cut its holdings of treasury and mortgage-backed securities by $47.5 billion per month until september, and then upping that to $95 billion per month thereafter.'"
      ]
     },
     "execution_count": 13,
     "metadata": {},
     "output_type": "execute_result"
    }
   ],
   "source": [
    "output"
   ]
  },
  {
   "cell_type": "code",
   "execution_count": 14,
   "id": "2af34b44",
   "metadata": {},
   "outputs": [
    {
     "name": "stdout",
     "output_type": "stream",
     "text": [
      "The fomc cut its holdings of treasury and mortgage-backed securities by $47.5 billion per month until september, and then upping that to $95 billion per month thereafter.\n",
      "CPU times: user 556 ms, sys: 56.9 ms, total: 612 ms\n",
      "Wall time: 635 ms\n"
     ]
    }
   ],
   "source": [
    "%%time\n",
    "# Question Answer in Boolean\n",
    "payload4 = {\n",
    "    \"input_text\" : '''As (newly) expected, the Federal Open Market Committee (FOMC) raised the fed funds rate by 75 basis points, the first hike of that size since 1994. That puts the fed funds target range at 1.5%-1.75%. There was one dissent—Kansas City Fed President Esther George (typically a hawk)—in favor of a lesser 50-basis-point increase. The FOMC confirmed its previously laid-out plan on balance sheet reduction, which just began at the beginning of June—shrinking its holdings of Treasury and mortgage-backed securities by $47.5 billion per month until September, and then upping that to $95 billion per month thereafter.''',\n",
    "    \"input_question\" : \"What did the FOMC cut its holdings of in June?\"\n",
    "    \n",
    "}\n",
    "output = answer.predict_answer(payload4)\n",
    "print (output)"
   ]
  },
  {
   "cell_type": "code",
   "execution_count": 18,
   "id": "f0d3a922",
   "metadata": {},
   "outputs": [
    {
     "name": "stdout",
     "output_type": "stream",
     "text": [
      "Running model for generation\n",
      "{'questions': [{'Question': 'What is the name of the Federal Open Market Committee?', 'Answer': 'fomc', 'id': 1, 'context': 'The FOMC confirmed its previously laid-out plan on balance sheet reduction, which just began at the beginning of June—shrinking its holdings of Treasury and mortgage-backed securities by $47.5 billion per month until September, and then upping that to $95 billion per month thereafter. As (newly) expected, the Federal Open Market Committee (FOMC) raised the fed funds rate by 75 basis points, the first hike of that size since 1994.'}, {'Question': 'What did the FOMC raise by 75 basis points?', 'Answer': 'fed funds rate', 'id': 2, 'context': 'As (newly) expected, the Federal Open Market Committee (FOMC) raised the fed funds rate by 75 basis points, the first hike of that size since 1994.'}, {'Question': 'How much did the FOMC raise the fed funds rate?', 'Answer': 'basis points', 'id': 3, 'context': 'As (newly) expected, the Federal Open Market Committee (FOMC) raised the fed funds rate by 75 basis points, the first hike of that size since 1994.'}, {'Question': 'What is the largest holding of mortgage-backed securities?', 'Answer': 'treasury', 'id': 4, 'context': 'The FOMC confirmed its previously laid-out plan on balance sheet reduction, which just began at the beginning of June—shrinking its holdings of Treasury and mortgage-backed securities by $47.5 billion per month until September, and then upping that to $95 billion per month thereafter.'}, {'Question': 'What did the FOMC cut in its holdings of Treasury and mortgage-backed securities?', 'Answer': 'holdings', 'id': 5, 'context': 'The FOMC confirmed its previously laid-out plan on balance sheet reduction, which just began at the beginning of June—shrinking its holdings of Treasury and mortgage-backed securities by $47.5 billion per month until September, and then upping that to $95 billion per month thereafter.'}, {'Question': 'What was the first rate hike of the Fed funds rate since 1994?', 'Answer': 'hike', 'id': 6, 'context': 'As (newly) expected, the Federal Open Market Committee (FOMC) raised the fed funds rate by 75 basis points, the first hike of that size since 1994.'}, {'Question': 'What did the FOMC cut its holdings of in June?', 'Answer': 'securities', 'id': 7, 'context': 'The FOMC confirmed its previously laid-out plan on balance sheet reduction, which just began at the beginning of June—shrinking its holdings of Treasury and mortgage-backed securities by $47.5 billion per month until September, and then upping that to $95 billion per month thereafter.'}]}\n"
     ]
    }
   ],
   "source": [
    "payload = {\n",
    "            \"input_text\": \"As (newly) expected, the Federal Open Market Committee (FOMC) raised the fed funds rate by 75 basis points, the first hike of that size since 1994. That puts the fed funds target range at 1.5%-1.75%. There was one dissent—Kansas City Fed President Esther George (typically a hawk)—in favor of a lesser 50-basis-point increase. The FOMC confirmed its previously laid-out plan on balance sheet reduction, which just began at the beginning of June—shrinking its holdings of Treasury and mortgage-backed securities by $47.5 billion per month until September, and then upping that to $95 billion per month thereafter.\"\n",
    "            ,\"max_questions\": 10\n",
    "        }\n",
    "\n",
    "\n",
    "# Short Question and Answer\n",
    "qg = main.QGen()\n",
    "output = qg.predict_shortq(payload)\n",
    "# pprint (output)\n",
    "\n",
    "# for i in range(len(output[\"questions\"])):\n",
    "#     print(\"Question-> {}: Answer-> {}\".format(output[\"questions\"][i][\"Question\"], output[\"questions\"][i][\"Answer\"]))# , output[\"questions\"][i][\"context\"]))\n",
    "\n",
    "# Simple Question Answer (Long answer)\n",
    "\n"
   ]
  },
  {
   "cell_type": "code",
   "execution_count": 19,
   "id": "664ba857",
   "metadata": {},
   "outputs": [
    {
     "name": "stdout",
     "output_type": "stream",
     "text": [
      "Question-> What is the name of the Federal Open Market Committee?: \n",
      "Short Answer-> The federal open market committee is the name of the federal open market committee.\n",
      "Question-> What did the FOMC raise by 75 basis points?: \n",
      "Short Answer-> The fomc raised the fed funds rate by 75 basis points.\n",
      "Question-> How much did the FOMC raise the fed funds rate?: \n",
      "Short Answer-> The fomc raised the fed funds rate by 75 basis points.\n",
      "Question-> What is the largest holding of mortgage-backed securities?: \n",
      "Short Answer-> The largest holding of mortgage-backed securities is $47.5 billion per month until september.\n",
      "Question-> What did the FOMC cut in its holdings of Treasury and mortgage-backed securities?: \n",
      "Short Answer-> The fomc cut in its holdings of treasury and mortgage-backed securities by $47.5 billion per month until september, and then upping that to $95 billion per month thereafter.\n",
      "Question-> What was the first rate hike of the Fed funds rate since 1994?: \n",
      "Short Answer-> The first rate hike of the fed funds rate since 1994 was 1.5%-1.75%.\n",
      "Question-> What did the FOMC cut its holdings of in June?: \n",
      "Short Answer-> The fomc cut its holdings of treasury and mortgage-backed securities by $47.5 billion per month until september, and then upping that to $95 billion per month thereafter.\n"
     ]
    }
   ],
   "source": [
    "answer = main.AnswerPredictor()\n",
    "\n",
    "for i in range(len(output[\"questions\"])):\n",
    "    payload3 = {\n",
    "        \"input_text\" : '''As (newly) expected, the Federal Open Market Committee (FOMC) raised the fed funds rate by 75 basis points, the first hike of that size since 1994. That puts the fed funds target range at 1.5%-1.75%. There was one dissent—Kansas City Fed President Esther George (typically a hawk)—in favor of a lesser 50-basis-point increase. The FOMC confirmed its previously laid-out plan on balance sheet reduction, which just began at the beginning of June—shrinking its holdings of Treasury and mortgage-backed securities by $47.5 billion per month until September, and then upping that to $95 billion per month thereafter.''',\n",
    "        \"input_question\" : output[\"questions\"][i][\"Question\"]\n",
    "    \n",
    "    }\n",
    "    result = answer.predict_answer(payload3)\n",
    "\n",
    "    print(\"Question-> {}: \\nShort Answer-> {}\".format(payload3[\"input_question\"], result))\n"
   ]
  },
  {
   "cell_type": "code",
   "execution_count": null,
   "id": "0ec88897",
   "metadata": {},
   "outputs": [],
   "source": []
  }
 ],
 "metadata": {
  "kernelspec": {
   "display_name": "Python 3.8.10 ('learn')",
   "language": "python",
   "name": "python3"
  },
  "language_info": {
   "codemirror_mode": {
    "name": "ipython",
    "version": 3
   },
   "file_extension": ".py",
   "mimetype": "text/x-python",
   "name": "python",
   "nbconvert_exporter": "python",
   "pygments_lexer": "ipython3",
   "version": "3.8.10"
  },
  "vscode": {
   "interpreter": {
    "hash": "2f9597a58ddaf415cdcbf062f232617ec846f852b475c91a9c7b28fc3b829a56"
   }
  }
 },
 "nbformat": 4,
 "nbformat_minor": 5
}
