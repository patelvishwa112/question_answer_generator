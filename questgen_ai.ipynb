{
 "cells": [
  {
   "cell_type": "code",
   "execution_count": 1,
   "id": "c671a3f9",
   "metadata": {},
   "outputs": [
    {
     "name": "stderr",
     "output_type": "stream",
     "text": [
      "/opt/anaconda3/envs/learn/lib/python3.8/site-packages/tqdm/auto.py:22: TqdmWarning: IProgress not found. Please update jupyter and ipywidgets. See https://ipywidgets.readthedocs.io/en/stable/user_install.html\n",
      "  from .autonotebook import tqdm as notebook_tqdm\n",
      "[nltk_data] Downloading package brown to\n",
      "[nltk_data]     /Users/himanipatel/nltk_data...\n",
      "[nltk_data]   Unzipping corpora/brown.zip.\n",
      "[nltk_data] Downloading package stopwords to\n",
      "[nltk_data]     /Users/himanipatel/nltk_data...\n",
      "[nltk_data]   Unzipping corpora/stopwords.zip.\n",
      "[nltk_data] Downloading collection 'popular'\n",
      "[nltk_data]    | \n",
      "[nltk_data]    | Downloading package cmudict to\n",
      "[nltk_data]    |     /Users/himanipatel/nltk_data...\n",
      "[nltk_data]    |   Unzipping corpora/cmudict.zip.\n",
      "[nltk_data]    | Downloading package gazetteers to\n",
      "[nltk_data]    |     /Users/himanipatel/nltk_data...\n",
      "[nltk_data]    |   Unzipping corpora/gazetteers.zip.\n",
      "[nltk_data]    | Downloading package genesis to\n",
      "[nltk_data]    |     /Users/himanipatel/nltk_data...\n",
      "[nltk_data]    |   Unzipping corpora/genesis.zip.\n",
      "[nltk_data]    | Downloading package gutenberg to\n",
      "[nltk_data]    |     /Users/himanipatel/nltk_data...\n",
      "[nltk_data]    |   Unzipping corpora/gutenberg.zip.\n",
      "[nltk_data]    | Downloading package inaugural to\n",
      "[nltk_data]    |     /Users/himanipatel/nltk_data...\n",
      "[nltk_data]    |   Unzipping corpora/inaugural.zip.\n",
      "[nltk_data]    | Downloading package movie_reviews to\n",
      "[nltk_data]    |     /Users/himanipatel/nltk_data...\n",
      "[nltk_data]    |   Unzipping corpora/movie_reviews.zip.\n",
      "[nltk_data]    | Downloading package names to\n",
      "[nltk_data]    |     /Users/himanipatel/nltk_data...\n",
      "[nltk_data]    |   Unzipping corpora/names.zip.\n",
      "[nltk_data]    | Downloading package shakespeare to\n",
      "[nltk_data]    |     /Users/himanipatel/nltk_data...\n",
      "[nltk_data]    |   Unzipping corpora/shakespeare.zip.\n",
      "[nltk_data]    | Downloading package stopwords to\n",
      "[nltk_data]    |     /Users/himanipatel/nltk_data...\n",
      "[nltk_data]    |   Package stopwords is already up-to-date!\n",
      "[nltk_data]    | Downloading package treebank to\n",
      "[nltk_data]    |     /Users/himanipatel/nltk_data...\n",
      "[nltk_data]    |   Unzipping corpora/treebank.zip.\n",
      "[nltk_data]    | Downloading package twitter_samples to\n",
      "[nltk_data]    |     /Users/himanipatel/nltk_data...\n",
      "[nltk_data]    |   Unzipping corpora/twitter_samples.zip.\n",
      "[nltk_data]    | Downloading package omw to\n",
      "[nltk_data]    |     /Users/himanipatel/nltk_data...\n",
      "[nltk_data]    |   Unzipping corpora/omw.zip.\n",
      "[nltk_data]    | Downloading package omw-1.4 to\n",
      "[nltk_data]    |     /Users/himanipatel/nltk_data...\n",
      "[nltk_data]    |   Unzipping corpora/omw-1.4.zip.\n",
      "[nltk_data]    | Downloading package wordnet to\n",
      "[nltk_data]    |     /Users/himanipatel/nltk_data...\n",
      "[nltk_data]    |   Package wordnet is already up-to-date!\n",
      "[nltk_data]    | Downloading package wordnet2021 to\n",
      "[nltk_data]    |     /Users/himanipatel/nltk_data...\n",
      "[nltk_data]    |   Unzipping corpora/wordnet2021.zip.\n",
      "[nltk_data]    | Downloading package wordnet31 to\n",
      "[nltk_data]    |     /Users/himanipatel/nltk_data...\n",
      "[nltk_data]    |   Unzipping corpora/wordnet31.zip.\n",
      "[nltk_data]    | Downloading package wordnet_ic to\n",
      "[nltk_data]    |     /Users/himanipatel/nltk_data...\n",
      "[nltk_data]    |   Unzipping corpora/wordnet_ic.zip.\n",
      "[nltk_data]    | Downloading package words to\n",
      "[nltk_data]    |     /Users/himanipatel/nltk_data...\n",
      "[nltk_data]    |   Unzipping corpora/words.zip.\n",
      "[nltk_data]    | Downloading package maxent_ne_chunker to\n",
      "[nltk_data]    |     /Users/himanipatel/nltk_data...\n",
      "[nltk_data]    |   Unzipping chunkers/maxent_ne_chunker.zip.\n",
      "[nltk_data]    | Downloading package punkt to\n",
      "[nltk_data]    |     /Users/himanipatel/nltk_data...\n",
      "[nltk_data]    |   Package punkt is already up-to-date!\n",
      "[nltk_data]    | Downloading package snowball_data to\n",
      "[nltk_data]    |     /Users/himanipatel/nltk_data...\n",
      "[nltk_data]    | Downloading package averaged_perceptron_tagger to\n",
      "[nltk_data]    |     /Users/himanipatel/nltk_data...\n",
      "[nltk_data]    |   Unzipping taggers/averaged_perceptron_tagger.zip.\n",
      "[nltk_data]    | \n",
      "[nltk_data]  Done downloading collection popular\n",
      "[nltk_data] Downloading package brown to\n",
      "[nltk_data]     /Users/himanipatel/nltk_data...\n",
      "[nltk_data]   Package brown is already up-to-date!\n",
      "[nltk_data] Downloading package stopwords to\n",
      "[nltk_data]     /Users/himanipatel/nltk_data...\n",
      "[nltk_data]   Package stopwords is already up-to-date!\n",
      "[nltk_data] Downloading collection 'popular'\n",
      "[nltk_data]    | \n",
      "[nltk_data]    | Downloading package cmudict to\n",
      "[nltk_data]    |     /Users/himanipatel/nltk_data...\n",
      "[nltk_data]    |   Package cmudict is already up-to-date!\n",
      "[nltk_data]    | Downloading package gazetteers to\n",
      "[nltk_data]    |     /Users/himanipatel/nltk_data...\n",
      "[nltk_data]    |   Package gazetteers is already up-to-date!\n",
      "[nltk_data]    | Downloading package genesis to\n",
      "[nltk_data]    |     /Users/himanipatel/nltk_data...\n",
      "[nltk_data]    |   Package genesis is already up-to-date!\n",
      "[nltk_data]    | Downloading package gutenberg to\n",
      "[nltk_data]    |     /Users/himanipatel/nltk_data...\n",
      "[nltk_data]    |   Package gutenberg is already up-to-date!\n",
      "[nltk_data]    | Downloading package inaugural to\n",
      "[nltk_data]    |     /Users/himanipatel/nltk_data...\n",
      "[nltk_data]    |   Package inaugural is already up-to-date!\n",
      "[nltk_data]    | Downloading package movie_reviews to\n",
      "[nltk_data]    |     /Users/himanipatel/nltk_data...\n",
      "[nltk_data]    |   Package movie_reviews is already up-to-date!\n",
      "[nltk_data]    | Downloading package names to\n",
      "[nltk_data]    |     /Users/himanipatel/nltk_data...\n",
      "[nltk_data]    |   Package names is already up-to-date!\n",
      "[nltk_data]    | Downloading package shakespeare to\n",
      "[nltk_data]    |     /Users/himanipatel/nltk_data...\n",
      "[nltk_data]    |   Package shakespeare is already up-to-date!\n",
      "[nltk_data]    | Downloading package stopwords to\n",
      "[nltk_data]    |     /Users/himanipatel/nltk_data...\n",
      "[nltk_data]    |   Package stopwords is already up-to-date!\n",
      "[nltk_data]    | Downloading package treebank to\n",
      "[nltk_data]    |     /Users/himanipatel/nltk_data...\n",
      "[nltk_data]    |   Package treebank is already up-to-date!\n",
      "[nltk_data]    | Downloading package twitter_samples to\n",
      "[nltk_data]    |     /Users/himanipatel/nltk_data...\n",
      "[nltk_data]    |   Package twitter_samples is already up-to-date!\n",
      "[nltk_data]    | Downloading package omw to\n",
      "[nltk_data]    |     /Users/himanipatel/nltk_data...\n",
      "[nltk_data]    |   Package omw is already up-to-date!\n",
      "[nltk_data]    | Downloading package omw-1.4 to\n",
      "[nltk_data]    |     /Users/himanipatel/nltk_data...\n",
      "[nltk_data]    |   Package omw-1.4 is already up-to-date!\n",
      "[nltk_data]    | Downloading package wordnet to\n",
      "[nltk_data]    |     /Users/himanipatel/nltk_data...\n",
      "[nltk_data]    |   Package wordnet is already up-to-date!\n",
      "[nltk_data]    | Downloading package wordnet2021 to\n",
      "[nltk_data]    |     /Users/himanipatel/nltk_data...\n",
      "[nltk_data]    |   Package wordnet2021 is already up-to-date!\n",
      "[nltk_data]    | Downloading package wordnet31 to\n",
      "[nltk_data]    |     /Users/himanipatel/nltk_data...\n",
      "[nltk_data]    |   Package wordnet31 is already up-to-date!\n",
      "[nltk_data]    | Downloading package wordnet_ic to\n",
      "[nltk_data]    |     /Users/himanipatel/nltk_data...\n",
      "[nltk_data]    |   Package wordnet_ic is already up-to-date!\n",
      "[nltk_data]    | Downloading package words to\n",
      "[nltk_data]    |     /Users/himanipatel/nltk_data...\n",
      "[nltk_data]    |   Package words is already up-to-date!\n",
      "[nltk_data]    | Downloading package maxent_ne_chunker to\n",
      "[nltk_data]    |     /Users/himanipatel/nltk_data...\n",
      "[nltk_data]    |   Package maxent_ne_chunker is already up-to-date!\n",
      "[nltk_data]    | Downloading package punkt to\n",
      "[nltk_data]    |     /Users/himanipatel/nltk_data...\n",
      "[nltk_data]    |   Package punkt is already up-to-date!\n",
      "[nltk_data]    | Downloading package snowball_data to\n",
      "[nltk_data]    |     /Users/himanipatel/nltk_data...\n",
      "[nltk_data]    |   Package snowball_data is already up-to-date!\n",
      "[nltk_data]    | Downloading package averaged_perceptron_tagger to\n",
      "[nltk_data]    |     /Users/himanipatel/nltk_data...\n",
      "[nltk_data]    |   Package averaged_perceptron_tagger is already up-\n",
      "[nltk_data]    |       to-date!\n",
      "[nltk_data]    | \n",
      "[nltk_data]  Done downloading collection popular\n"
     ]
    },
    {
     "name": "stderr",
     "output_type": "stream",
     "text": [
      "Downloading: 100%|██████████| 792k/792k [00:00<00:00, 9.19MB/s]\n",
      "Downloading: 100%|██████████| 1.21k/1.21k [00:00<00:00, 245kB/s]\n",
      "Downloading: 100%|██████████| 892M/892M [01:10<00:00, 12.7MB/s] \n",
      "/opt/anaconda3/envs/learn/lib/python3.8/site-packages/transformers/generation_utils.py:730: UserWarning: __floordiv__ is deprecated, and its behavior will change in a future version of pytorch. It currently rounds toward 0 (like the 'trunc' function NOT 'floor'). This results in incorrect rounding for negative values. To keep the current behavior, use torch.div(a, b, rounding_mode='trunc'), or for actual floor division, use torch.div(a, b, rounding_mode='floor').\n",
      "  beam_id = beam_token_id // vocab_size\n"
     ]
    },
    {
     "name": "stdout",
     "output_type": "stream",
     "text": [
      "{'Boolean Questions': ['Is sachin ramesh tendulkar the highest run scorer in '\n",
      "                       'cricket?',\n",
      "                       'Is sachin ramesh tendulkar the highest run scorer in '\n",
      "                       'cricket?',\n",
      "                       'Is sachin tendulkar the highest run scorer in '\n",
      "                       'cricket?'],\n",
      " 'Count': 4,\n",
      " 'Text': 'Sachin Ramesh Tendulkar is a former international cricketer from '\n",
      "         'India and a former captain of the Indian national team. He is widely '\n",
      "         'regarded as one of the greatest batsmen in the history of cricket. '\n",
      "         'He is the highest run scorer of all time in International cricket.'}\n"
     ]
    }
   ],
   "source": [
    "from pprint import pprint\n",
    "from Questgen import main\n",
    "qe= main.BoolQGen()\n",
    "payload = {\n",
    "            \"input_text\": \"Sachin Ramesh Tendulkar is a former international cricketer from India and a former captain of the Indian national team. He is widely regarded as one of the greatest batsmen in the history of cricket. He is the highest run scorer of all time in International cricket.\"\n",
    "        }\n",
    "output = qe.predict_boolq(payload)\n",
    "pprint (output)"
   ]
  },
  {
   "cell_type": "code",
   "execution_count": 3,
   "id": "9017ed88",
   "metadata": {},
   "outputs": [
    {
     "data": {
      "text/plain": [
       "['Is sachin ramesh tendulkar the highest run scorer in cricket?',\n",
       " 'Is sachin ramesh tendulkar the highest run scorer in cricket?',\n",
       " 'Is sachin tendulkar the highest run scorer in cricket?']"
      ]
     },
     "execution_count": 3,
     "metadata": {},
     "output_type": "execute_result"
    }
   ],
   "source": [
    "output[\"Boolean Questions\"]"
   ]
  },
  {
   "cell_type": "code",
   "execution_count": 5,
   "id": "230d5ed2",
   "metadata": {},
   "outputs": [
    {
     "name": "stderr",
     "output_type": "stream",
     "text": [
      "Downloading: 100%|██████████| 1.21k/1.21k [00:00<00:00, 243kB/s]\n",
      "Downloading: 100%|██████████| 892M/892M [00:20<00:00, 42.7MB/s] \n"
     ]
    },
    {
     "name": "stdout",
     "output_type": "stream",
     "text": [
      "Running model for generation\n",
      "{'questions': [{'Question': \"What is Sachin Ramesh Tendulkar's career?\", 'Answer': 'cricketer', 'id': 1, 'context': 'Sachin Ramesh Tendulkar is a former international cricketer from India and a former captain of the Indian national team.'}, {'Question': 'Where is Sachin Ramesh Tendulkar from?', 'Answer': 'india', 'id': 2, 'context': 'Sachin Ramesh Tendulkar is a former international cricketer from India and a former captain of the Indian national team.'}, {'Question': 'What is the best cricketer?', 'Answer': 'batsmen', 'id': 3, 'context': 'He is widely regarded as one of the greatest batsmen in the history of cricket.'}]}\n",
      "{'questions': [{'Answer': 'cricketer',\n",
      "                'Question': \"What is Sachin Ramesh Tendulkar's career?\",\n",
      "                'context': 'Sachin Ramesh Tendulkar is a former international '\n",
      "                           'cricketer from India and a former captain of the '\n",
      "                           'Indian national team.',\n",
      "                'id': 1},\n",
      "               {'Answer': 'india',\n",
      "                'Question': 'Where is Sachin Ramesh Tendulkar from?',\n",
      "                'context': 'Sachin Ramesh Tendulkar is a former international '\n",
      "                           'cricketer from India and a former captain of the '\n",
      "                           'Indian national team.',\n",
      "                'id': 2},\n",
      "               {'Answer': 'batsmen',\n",
      "                'Question': 'What is the best cricketer?',\n",
      "                'context': 'He is widely regarded as one of the greatest '\n",
      "                           'batsmen in the history of cricket.',\n",
      "                'id': 3}],\n",
      " 'statement': 'Sachin Ramesh Tendulkar is a former international cricketer '\n",
      "              'from India and a former captain of the Indian national team. He '\n",
      "              'is widely regarded as one of the greatest batsmen in the '\n",
      "              'history of cricket. He is the highest run scorer of all time in '\n",
      "              'International cricket.'}\n"
     ]
    }
   ],
   "source": [
    "qg = main.QGen()\n",
    "output = qg.predict_shortq(payload)\n",
    "pprint (output)"
   ]
  },
  {
   "cell_type": "code",
   "execution_count": 8,
   "id": "1681bf12",
   "metadata": {},
   "outputs": [
    {
     "data": {
      "text/plain": [
       "(\"What is Sachin Ramesh Tendulkar's career?\",\n",
       " 'cricketer',\n",
       " 'Sachin Ramesh Tendulkar is a former international cricketer from India and a former captain of the Indian national team.')"
      ]
     },
     "execution_count": 8,
     "metadata": {},
     "output_type": "execute_result"
    }
   ],
   "source": [
    "output[\"questions\"][0][\"Question\"], output[\"questions\"][0][\"Answer\"], output[\"questions\"][0][\"context\"]"
   ]
  },
  {
   "cell_type": "code",
   "execution_count": 9,
   "id": "153b5457",
   "metadata": {},
   "outputs": [
    {
     "name": "stderr",
     "output_type": "stream",
     "text": [
      "Downloading: 100%|██████████| 1.21k/1.21k [00:00<00:00, 244kB/s]\n",
      "Downloading: 100%|██████████| 242M/242M [00:05<00:00, 44.2MB/s] \n"
     ]
    }
   ],
   "source": [
    "# Simple Question Answer (Long answer)\n",
    "\n",
    "answer = main.AnswerPredictor()\n",
    "payload3 = {\n",
    "    \"input_text\" : '''Sachin Ramesh Tendulkar is a former international cricketer from \n",
    "              India and a former captain of the Indian national team. He is widely regarded \n",
    "              as one of the greatest batsmen in the history of cricket. He is the highest\n",
    "               run scorer of all time in International cricket.''',\n",
    "    \"input_question\" : \"Who is Sachin tendulkar ? \"\n",
    "    \n",
    "}\n",
    "output = answer.predict_answer(payload3)"
   ]
  },
  {
   "cell_type": "code",
   "execution_count": 10,
   "id": "92a02289",
   "metadata": {},
   "outputs": [
    {
     "data": {
      "text/plain": [
       "'Sachin ramesh tendulkar is a former international cricketer from india and a former captain of the indian national team.'"
      ]
     },
     "execution_count": 10,
     "metadata": {},
     "output_type": "execute_result"
    }
   ],
   "source": [
    "output"
   ]
  },
  {
   "cell_type": "code",
   "execution_count": 11,
   "id": "2af34b44",
   "metadata": {},
   "outputs": [
    {
     "name": "stdout",
     "output_type": "stream",
     "text": [
      "Yes, sachin tendulkar is a former cricketer.\n"
     ]
    }
   ],
   "source": [
    "# Question Answer in Boolean\n",
    "payload4 = {\n",
    "    \"input_text\" : '''Sachin Ramesh Tendulkar is a former international cricketer from \n",
    "              India and a former captain of the Indian national team. He is widely regarded \n",
    "              as one of the greatest batsmen in the history of cricket. He is the highest\n",
    "               run scorer of all time in International cricket.''',\n",
    "    \"input_question\" : \"Is Sachin tendulkar  a former cricketer? \"\n",
    "}\n",
    "output = answer.predict_answer(payload4)\n",
    "print (output)"
   ]
  },
  {
   "cell_type": "markdown",
   "id": "15d451b9",
   "metadata": {},
   "source": [
    "### QuestGen uses 3 T5 models for its question, Answer generation. Link to <a href=\"https://towardsdatascience.com/questgen-an-open-source-nlp-library-for-question-generation-algorithms-1e18067fcdc6\">Article</a>"
   ]
  },
  {
   "cell_type": "code",
   "execution_count": null,
   "id": "e924a549",
   "metadata": {},
   "outputs": [],
   "source": []
  }
 ],
 "metadata": {
  "kernelspec": {
   "display_name": "Python 3",
   "language": "python",
   "name": "python3"
  },
  "language_info": {
   "codemirror_mode": {
    "name": "ipython",
    "version": 3
   },
   "file_extension": ".py",
   "mimetype": "text/x-python",
   "name": "python",
   "nbconvert_exporter": "python",
   "pygments_lexer": "ipython3",
   "version": "3.8.10"
  }
 },
 "nbformat": 4,
 "nbformat_minor": 5
}
